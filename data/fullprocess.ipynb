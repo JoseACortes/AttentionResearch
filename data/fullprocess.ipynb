{
 "cells": [
  {
   "attachments": {},
   "cell_type": "markdown",
   "metadata": {},
   "source": [
    "Here is the outline of the full preprocess on the data to get it ready for the model:\n",
    "1. standartize the data from (processing.py)  \n",
    "2. remove nan heavy trials (nanProcessing.py)\n",
    "3. interpolate the missing values (nanProcessing.py)"
   ]
  },
  {
   "cell_type": "code",
   "execution_count": 1,
   "metadata": {},
   "outputs": [],
   "source": [
    "import pandas as pd\n",
    "import numpy as np"
   ]
  },
  {
   "cell_type": "code",
   "execution_count": 2,
   "metadata": {},
   "outputs": [],
   "source": [
    "from processing.processData import process\n",
    "from nanHandling.nanProcessing import nanPercentages\n",
    "from nanHandling.nanProcessing import nan_to_interp"
   ]
  },
  {
   "cell_type": "code",
   "execution_count": 3,
   "metadata": {},
   "outputs": [],
   "source": [
    "# !pip3 install alive-progress\n",
    "from alive_progress import alive_bar"
   ]
  },
  {
   "cell_type": "code",
   "execution_count": 4,
   "metadata": {},
   "outputs": [],
   "source": [
    "trainingData = pd.read_pickle('../../fulldata/processed/trainingData.pkl')\n",
    "trainingSubjectInfo = pd.read_pickle('../../fulldata/processed/trainingSubjectInfo.pkl')"
   ]
  },
  {
   "cell_type": "code",
   "execution_count": 5,
   "metadata": {},
   "outputs": [],
   "source": [
    "testingData = pd.read_pickle('../../fulldata/processed/testingData.pkl')\n",
    "testingSubjectInfo = pd.read_pickle('../../fulldata/processed/testingSubjectInfo.pkl')"
   ]
  },
  {
   "cell_type": "code",
   "execution_count": 6,
   "metadata": {},
   "outputs": [],
   "source": [
    "def deepProcess(dataframe, subjectframe, nancut = .4):\n",
    "    print('Copying dataframes...')\n",
    "    dataframe = dataframe.copy()\n",
    "    subjectframe = subjectframe.copy()\n",
    "    # 1. Process data\n",
    "    print('Processing data...')\n",
    "    dataframe = process(dataframe)\n",
    "    # 2. Remove NaN-heavy trials\n",
    "    print('Removing NaN-heavy trials')\n",
    "    percentnan = nanPercentages(dataframe)\n",
    "    subjectframe['percentNanWhole'] = percentnan['whole']\n",
    "    subjectframe['percentNanMax'] = percentnan['max']\n",
    "    nancutSubjectInfo = subjectframe.query('percentNanWhole < .4 and percentNanMax < .6')\n",
    "    nancutData = dataframe.loc[nancutSubjectInfo.index]\n",
    "    nancutData.sort_values(by=['time'], inplace=True)\n",
    "    # 3. Interpolate NaNs\n",
    "    print('Interpolating NaNs...')\n",
    "    sts = nancutData.index.unique().to_list()\n",
    "    with alive_bar(len(sts), force_tty=True) as bar:\n",
    "        for st in sts:\n",
    "            nancutData.loc[[st], ['right_pupil', 'left_pupil', 'right_gaze_x', 'right_gaze_y', 'left_gaze_x', 'left_gaze_y']] = nancutData.loc[[st], ['right_pupil', 'left_pupil', 'right_gaze_x', 'right_gaze_y', 'left_gaze_x', 'left_gaze_y']].apply(nan_to_interp)\n",
    "            bar()\n",
    "    return nancutData"
   ]
  },
  {
   "attachments": {},
   "cell_type": "markdown",
   "metadata": {},
   "source": [
    "The code below is used to run the full process on the data. It takes about an hour to run on the full training dataset, and 1 minute for the testing dataset."
   ]
  },
  {
   "cell_type": "code",
   "execution_count": 1,
   "metadata": {},
   "outputs": [],
   "source": [
    "# X_y_train = deepProcess(trainingData, trainingSubjectInfo)\n",
    "# X_y_train.to_pickle('../../fulldata/processed/X_y_train.pkl')\n",
    "# X_y_test = deepProcess(trainingData, trainingSubjectInfo)\n",
    "# X_y_test.to_pickle('../../fulldata/processed/X_y_test.pkl')"
   ]
  },
  {
   "cell_type": "code",
   "execution_count": null,
   "metadata": {},
   "outputs": [],
   "source": []
  }
 ],
 "metadata": {
  "kernelspec": {
   "display_name": "Python 3",
   "language": "python",
   "name": "python3"
  },
  "language_info": {
   "codemirror_mode": {
    "name": "ipython",
    "version": 3
   },
   "file_extension": ".py",
   "mimetype": "text/x-python",
   "name": "python",
   "nbconvert_exporter": "python",
   "pygments_lexer": "ipython3",
   "version": "3.8.10"
  },
  "orig_nbformat": 4
 },
 "nbformat": 4,
 "nbformat_minor": 2
}
